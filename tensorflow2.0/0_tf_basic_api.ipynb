{
 "cells": [
  {
   "cell_type": "code",
   "execution_count": 4,
   "metadata": {
    "collapsed": true
   },
   "outputs": [
    {
     "name": "stdout",
     "output_type": "stream",
     "text": [
      "2.0.0-alpha0\nmatplotlib 3.1.1\nnumpy 1.16.3\npandas 0.24.2\nsklearn 0.21.2\ntensorflow 2.0.0-alpha0\ntensorflow.python.keras.api._v2.keras 2.2.4-tf\n"
     ]
    }
   ],
   "source": [
    "import matplotlib as mpl\n",
    "import matplotlib.pyplot as plt\n",
    "#将matplotlib的图表直接嵌入到notebook，它有一个指定图表显示的参数，inline表示将图表嵌入到notebook\n",
    "%matplotlib inline\n",
    "import numpy as np\n",
    "import sklearn\n",
    "import pandas as pd\n",
    "import os\n",
    "import sys\n",
    "import time\n",
    "\n",
    "import tensorflow as tf\n",
    "from tensorflow import keras\n",
    "\n",
    "print(tf.__version__)\n",
    "for module in mpl,np,pd,sklearn,tf,keras:\n",
    "    print(module.__name__, module.__version__)"
   ]
  },
  {
   "cell_type": "code",
   "execution_count": 7,
   "metadata": {
    "collapsed": true
   },
   "outputs": [
    {
     "name": "stdout",
     "output_type": "stream",
     "text": [
      "tf.Tensor(\n[[1. 2. 3.]\n [4. 5. 6.]], shape=(2, 3), dtype=float32)\ntf.Tensor(\n[[2. 3.]\n [5. 6.]], shape=(2, 2), dtype=float32)\ntf.Tensor([2. 5.], shape=(2,), dtype=float32)\ntf.Tensor(\n[[2. 3.]\n [5. 6.]], shape=(2, 2), dtype=float32)\n"
     ]
    }
   ],
   "source": [
    "#定义常量矩阵tensor\n",
    "t = tf.constant([[1.,2.,3.],[4.,5.,6.]])  #2x3的矩阵\n",
    "print(t)\n",
    "print(t[:,1:])\n",
    "print(t[...,1])  #...取所有行\n",
    "print(t[...,1:])"
   ]
  },
  {
   "cell_type": "code",
   "execution_count": 8,
   "metadata": {
    "collapsed": true
   },
   "outputs": [
    {
     "name": "stdout",
     "output_type": "stream",
     "text": [
      "tf.Tensor(\n[[11. 12. 13.]\n [14. 15. 16.]], shape=(2, 3), dtype=float32)\ntf.Tensor(\n[[ 1.  4.  9.]\n [16. 25. 36.]], shape=(2, 3), dtype=float32)\ntf.Tensor(\n[[14. 32.]\n [32. 77.]], shape=(2, 2), dtype=float32)\n"
     ]
    }
   ],
   "source": [
    "#矩阵操作\n",
    "print(t+10)\n",
    "print(tf.square(t))        \n",
    "print(t @ tf.transpose(t))  #@代表矩阵相乘"
   ]
  },
  {
   "cell_type": "code",
   "execution_count": 10,
   "metadata": {
    "collapsed": true
   },
   "outputs": [
    {
     "name": "stdout",
     "output_type": "stream",
     "text": [
      "[[1. 2. 3.]\n [4. 5. 6.]]\n[[ 1.  4.  9.]\n [16. 25. 36.]]\ntf.Tensor(\n[[1. 2. 3.]\n [4. 5. 6.]], shape=(2, 3), dtype=float64)\n"
     ]
    }
   ],
   "source": [
    "#numpy conversion numpy转化为矩阵\n",
    "print(t.numpy())   #将tensor 转化为numpy\n",
    "print(np.square(t))\n",
    "np_t = np.array([[1.,2.,3.],[4.,5.,6.]])\n",
    "print(tf.constant(np_t))  #将numpy 转化为tensor"
   ]
  },
  {
   "cell_type": "code",
   "execution_count": 14,
   "metadata": {
    "collapsed": true
   },
   "outputs": [
    {
     "name": "stdout",
     "output_type": "stream",
     "text": [
      "2.718\n()\ntf.Tensor(b'cafe', shape=(), dtype=string)\ntf.Tensor(4, shape=(), dtype=int32)\ntf.Tensor(4, shape=(), dtype=int32)\ntf.Tensor([ 99  97 102 101], shape=(4,), dtype=int32)\n"
     ]
    }
   ],
   "source": [
    "#Scalars\n",
    "t = tf.constant(2.718)\n",
    "print(t.numpy())\n",
    "print(t.shape)\n",
    "#strings\n",
    "t = tf.constant('cafe')\n",
    "print(t)\n",
    "print(tf.strings.length(t))\n",
    "print(tf.strings.length(t,unit=\"UTF8_CHAR\"))\n",
    "print(tf.strings.unicode_decode(t,\"UTF8\"))"
   ]
  },
  {
   "cell_type": "code",
   "execution_count": 15,
   "metadata": {},
   "outputs": [
    {
     "name": "stdout",
     "output_type": "stream",
     "text": [
      "tf.Tensor([4 6 2], shape=(3,), dtype=int32)\n<tf.RaggedTensor [[99, 97, 102, 101], [99, 111, 102, 102, 101, 101], [21654, 21857]]>\n"
     ]
    }
   ],
   "source": [
    "#string array\n",
    "t = tf.constant([\"cafe\",\"coffee\",\"咖啡\"])\n",
    "print(tf.strings.length(t,unit=\"UTF8_CHAR\"))\n",
    "r = tf.strings.unicode_decode(t,\"UTF8\")\n",
    "print(r)"
   ]
  },
  {
   "cell_type": "code",
   "execution_count": 17,
   "metadata": {},
   "outputs": [
    {
     "name": "stdout",
     "output_type": "stream",
     "text": [
      "<tf.RaggedTensor [[11, 12], [21, 22, 23], [], [41]]>\ntf.Tensor([21 22 23], shape=(3,), dtype=int32)\n<tf.RaggedTensor [[21, 22, 23]]>\n"
     ]
    }
   ],
   "source": [
    "# ragger tensor\n",
    "#ragger tensor 主要用于处理数据格式不规范的数据，不像矩阵那样行列固定\n",
    "r = tf.ragged.constant([[11,12],[21,22,23],[],[41]])\n",
    "print(r)\n",
    "print(r[1])\n",
    "print(r[1:2])"
   ]
  },
  {
   "cell_type": "code",
   "execution_count": 18,
   "metadata": {},
   "outputs": [
    {
     "name": "stdout",
     "output_type": "stream",
     "text": [
      "<tf.RaggedTensor [[11, 12], [21, 22, 23], [], [41], [51, 52], [], [71]]>\n"
     ]
    }
   ],
   "source": [
    "#ops on ragger tensor\n",
    "r2 = tf.ragged.constant([[51,52],[],[71]])\n",
    "print(tf.concat([r,r2],axis =0))  # 按照行进行拼接"
   ]
  },
  {
   "cell_type": "code",
   "execution_count": 19,
   "metadata": {},
   "outputs": [
    {
     "name": "stdout",
     "output_type": "stream",
     "text": [
      "<tf.RaggedTensor [[11, 12, 13, 14], [21, 22, 23, 15], [], [41, 71]]>\n"
     ]
    }
   ],
   "source": [
    "#按照列进行拼接的时候一定要保证行数相等\n",
    "r3 = tf.ragged.constant([[13,14],[15],[],[71]])\n",
    "print(tf.concat([r,r3],axis=1))"
   ]
  },
  {
   "cell_type": "code",
   "execution_count": 21,
   "metadata": {},
   "outputs": [
    {
     "name": "stdout",
     "output_type": "stream",
     "text": [
      "tf.Tensor(\n[[11 12  0]\n [21 22 23]\n [ 0  0  0]\n [41  0  0]], shape=(4, 3), dtype=int32)\n"
     ]
    }
   ],
   "source": [
    "#将ragged tensor  转化为tensor，末尾补充0\n",
    "print(r.to_tensor())"
   ]
  },
  {
   "cell_type": "code",
   "execution_count": 33,
   "metadata": {},
   "outputs": [
    {
     "name": "stdout",
     "output_type": "stream",
     "text": [
      "SparseTensor(indices=tf.Tensor(\n[[0 1]\n [1 0]\n [2 3]], shape=(3, 2), dtype=int64), values=tf.Tensor([1. 2. 3.], shape=(3,), dtype=float32), dense_shape=tf.Tensor([3 4], shape=(2,), dtype=int64))\ntf.Tensor(\n[[0. 1. 0. 0.]\n [2. 0. 0. 0.]\n [0. 0. 0. 3.]], shape=(3, 4), dtype=float32)\n"
     ]
    }
   ],
   "source": [
    "##sparse tensor\n",
    "#indices 代表系数tensor中有值的索引位置\n",
    "#values 代表有值索引位置对应的具体的数值\n",
    "#dense_shape 代表tensor的维度\n",
    "s = tf.SparseTensor(indices=[[0,1],[1,0],[2,3]],\n",
    "                    values=[1.,2.,3.],\n",
    "                    dense_shape=[3,4])\n",
    "print(s)\n",
    "print(tf.sparse.to_dense(s))"
   ]
  },
  {
   "cell_type": "code",
   "execution_count": 35,
   "metadata": {},
   "outputs": [
    {
     "name": "stdout",
     "output_type": "stream",
     "text": [
      "SparseTensor(indices=tf.Tensor(\n[[0 1]\n [1 0]\n [2 3]], shape=(3, 2), dtype=int64), values=tf.Tensor([2. 4. 6.], shape=(3,), dtype=float32), dense_shape=tf.Tensor([3 4], shape=(2,), dtype=int64))\nunsupported operand type(s) for +: 'SparseTensor' and 'int'\ntf.Tensor(\n[[ 30.  40.]\n [ 20.  40.]\n [210. 240.]], shape=(3, 2), dtype=float32)\n"
     ]
    }
   ],
   "source": [
    "#ops on sparse tensor\n",
    "s2 = s*2.0\n",
    "print(s2)\n",
    "#系数tensor 不能操作+\n",
    "try:\n",
    "    s3 = s+1\n",
    "except TypeError as ex:\n",
    "    print(ex)\n",
    "s4 = tf.constant([[10.,20.],\n",
    "                  [30.,40.],\n",
    "                  [50.,60.],\n",
    "                  [70.,80.]])\n",
    "#系数tensor 乘法\n",
    "print(tf.sparse.sparse_dense_matmul(s,s4))"
   ]
  },
  {
   "cell_type": "code",
   "execution_count": 44,
   "metadata": {},
   "outputs": [
    {
     "name": "stdout",
     "output_type": "stream",
     "text": [
      "SparseTensor(indices=tf.Tensor(\n[[0 2]\n [0 1]\n [2 3]], shape=(3, 2), dtype=int64), values=tf.Tensor([1. 2. 3.], shape=(3,), dtype=float32), dense_shape=tf.Tensor([3 4], shape=(2,), dtype=int64))\ntf.Tensor(\n[[0. 2. 1. 0.]\n [0. 0. 0. 0.]\n [0. 0. 0. 3.]], shape=(3, 4), dtype=float32)\n"
     ]
    }
   ],
   "source": [
    "#sparse tensor\n",
    "#稀疏tensor 的索引一定是有顺序的，顺序不对则会报错，但是可以用reorder函数进行调整\n",
    "s5 = tf.SparseTensor(indices = [[0, 2], [0, 1], [2, 3]],\n",
    "                    values = [1., 2., 3.],\n",
    "                    dense_shape = [3, 4])\n",
    "print(s5)\n",
    "s6 = tf.sparse.reorder(s5)\n",
    "print(tf.sparse.to_dense(s6))"
   ]
  },
  {
   "cell_type": "code",
   "execution_count": 45,
   "metadata": {},
   "outputs": [
    {
     "name": "stdout",
     "output_type": "stream",
     "text": [
      "<tf.Variable 'Variable:0' shape=(2, 3) dtype=float32, numpy=\narray([[1., 2., 3.],\n       [4., 5., 6.]], dtype=float32)>\ntf.Tensor(\n[[1. 2. 3.]\n [4. 5. 6.]], shape=(2, 3), dtype=float32)\n[[1. 2. 3.]\n [4. 5. 6.]]\n"
     ]
    }
   ],
   "source": [
    "#Variables\n",
    "v = tf.Variable([[1., 2., 3.], [4., 5., 6.]])\n",
    "print(v)\n",
    "print(v.value())\n",
    "print(v.numpy())"
   ]
  },
  {
   "cell_type": "code",
   "execution_count": 50,
   "metadata": {},
   "outputs": [
    {
     "name": "stdout",
     "output_type": "stream",
     "text": [
      "[[ 2.  4.  6.]\n [ 8. 10. 12.]]\n<bound method ResourceVariable.numpy of <tf.Variable 'Variable:0' shape=(2, 3) dtype=float32, numpy=\narray([[ 2.,  2.,  6.],\n       [ 8., 10., 12.]], dtype=float32)>>\n[[2. 2. 6.]\n [7. 8. 9.]]\n"
     ]
    }
   ],
   "source": [
    "# assign value，变量必须用此函数进行更改\n",
    "v.assign(2*v)\n",
    "print(v.numpy())\n",
    "v[0,1].assign(2)\n",
    "print(v.numpy)\n",
    "v[1].assign([7.,8.,9.])\n",
    "print(v.numpy())"
   ]
  },
  {
   "cell_type": "code",
   "execution_count": 51,
   "metadata": {},
   "outputs": [
    {
     "name": "stdout",
     "output_type": "stream",
     "text": [
      "'ResourceVariable' object does not support item assignment\n"
     ]
    }
   ],
   "source": [
    "try:\n",
    "    v[1] = [7., 8., 9.]\n",
    "except TypeError as ex:\n",
    "    print(ex)"
   ]
  },
  {
   "cell_type": "code",
   "execution_count": null,
   "metadata": {},
   "outputs": [],
   "source": [
    ""
   ]
  }
 ],
 "metadata": {
  "kernelspec": {
   "display_name": "Python 2",
   "language": "python",
   "name": "python2"
  },
  "language_info": {
   "codemirror_mode": {
    "name": "ipython",
    "version": 2.0
   },
   "file_extension": ".py",
   "mimetype": "text/x-python",
   "name": "python",
   "nbconvert_exporter": "python",
   "pygments_lexer": "ipython2",
   "version": "2.7.6"
  }
 },
 "nbformat": 4,
 "nbformat_minor": 0
}